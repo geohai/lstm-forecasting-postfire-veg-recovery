{
 "cells": [
  {
   "cell_type": "markdown",
   "metadata": {
    "id": "4tPS2Qv9jPfs"
   },
   "source": [
    "# ML Final Project"
   ]
  },
  {
   "cell_type": "markdown",
   "metadata": {
    "id": "J0XYJoeijSmp"
   },
   "source": [
    "## Import Packages"
   ]
  },
  {
   "cell_type": "code",
   "execution_count": 3,
   "metadata": {
    "colab": {
     "base_uri": "https://localhost:8080/"
    },
    "id": "LHSUwlPQdta4",
    "outputId": "b8b0c8ed-e5da-4b42-928f-d90171637765"
   },
   "outputs": [],
   "source": [
    "# Import required packages\n",
    "from datetime import datetime,date\n",
    "import numpy as np\n",
    "import json\n",
    "\n",
    "import calendar\n",
    "from dateutil import parser\n",
    "from dateutil.relativedelta import relativedelta\n",
    "import matplotlib.pyplot as plt\n",
    "import pandas as pd\n",
    "import geopandas as gpd\n",
    "import rasterio as rio\n",
    "# from rasterio.warp import reproject, Resampling\n",
    "# from shapely.geometry import box\n",
    "# from sklearn.metrics import accuracy_score, confusion_matrix, classification_report\n",
    "                                         \n",
    "from sklearn.metrics import r2_score\n",
    "from sklearn.model_selection import train_test_split\n",
    "from tensorflow.keras.layers import Dropout, Dense, LSTM, RepeatVector, TimeDistributed, Input, Reshape, BatchNormalization\n",
    "from tensorflow.keras.models import Sequential, Model\n",
    "\n",
    "from keras.callbacks import EarlyStopping,LearningRateScheduler\n",
    "import pickle\n",
    "\n",
    "import tensorflow as tf #version 2.11.0\n",
    "import keras #v 2.11.0\n",
    "import os\n",
    "\n",
    "# import rasterio\n",
    "# from rasterio.enums import Resampling\n",
    "# from rasterio.warp import calculate_default_transform#, reproject\n",
    "\n",
    "import json\n",
    "\n",
    "from math import sqrt\n",
    "from sklearn.metrics import mean_squared_error\n",
    "\n",
    "\n",
    "      \n",
    "np.random.seed(5)\n",
    "\n"
   ]
  },
  {
   "cell_type": "markdown",
   "metadata": {},
   "source": [
    "## Load .npy data stacks"
   ]
  },
  {
   "cell_type": "code",
   "execution_count": 4,
   "metadata": {},
   "outputs": [],
   "source": [
    "os.chdir('../Data')\n",
    "\n",
    "X_train=np.load(\"X_train.npy\")\n",
    "X_val=np.load(\"X_val.npy\")\n",
    "X_test=np.load( \"X_test.npy\")\n",
    "y_train=np.load(\"y_train.npy\")\n",
    "y_val=np.load(\"y_val.npy\")\n",
    "y_test=np.load(\"y_test.npy\")\n",
    "y_train1=np.load(\"y_train1.npy\" )\n",
    "y_train2=np.load(\"y_train2.npy\" )\n",
    "y_test1=np.load(\"y_test1.npy\")\n",
    "y_test2=np.load(\"y_test2.npy\")\n",
    "y_val1=np.load(\"y_val1.npy\")\n",
    "y_val2=np.load(\"y_val2.npy\") #note: saving stdardized data so will need ot unstd. to get back to real val range\n",
    "\n",
    "\n",
    "#read in list of fire IDs to associate metrics w\n",
    "x_test_df_storeIDs_csv = pd.read_csv(\"x_test_df_storeIDs.csv\")\n",
    "x_test_df_storeIDs = x_test_df_storeIDs_csv[\"0\"].values.tolist()\n"
   ]
  },
  {
   "cell_type": "code",
   "execution_count": 16,
   "metadata": {
    "id": "SV_oqZ1QJw76"
   },
   "outputs": [],
   "source": [
    "prefire_mo = 132\n",
    "timesteps = prefire_mo #how many years pre-fire are predictors?\n",
    "num_vars = 11 #number of features: precip, temp, ndvi, elev, slope, aspect, mtpi, chili, LAI (added! 7/19/23)\n",
    "# units = 50 #units in lstm layer\n",
    "num_outsteps = y_test.shape[1] #how many timesteps to predict [post-fire]\n"
   ]
  },
  {
   "cell_type": "markdown",
   "metadata": {
    "id": "XE6R8mos3k22"
   },
   "source": [
    "## Build LSTM using best hyperparameters"
   ]
  },
  {
   "cell_type": "markdown",
   "metadata": {},
   "source": [
    "### Check model's feature importance"
   ]
  },
  {
   "cell_type": "markdown",
   "metadata": {},
   "source": [
    "#### Permutation feature importance:\n",
    "This technique involves randomly shuffling individual features in the validation set and measuring the impact on model performance. A significant drop in model performance indicates that the feature is important. TensorFlow's model.evaluate can be used to assess performance with shuffled features. "
   ]
  },
  {
   "cell_type": "code",
   "execution_count": null,
   "metadata": {},
   "outputs": [],
   "source": [
    "\n",
    "from sklearn.metrics import mean_squared_error\n",
    "\n",
    "# Assuming `multihead_model` is your trained model\n",
    "\n",
    "def evaluate_feature_importance_multihead_regression(model, X_val, y_val, feat_names, head):\n",
    "    \"\"\"\n",
    "    Evaluate the permutation feature importance for a multi-headed regression model.\n",
    "    \n",
    "    :param model: The trained multi-head regression model.\n",
    "    :param X_val: Validation inputs (numpy array).\n",
    "    :param y_val: Validation targets (numpy array).\n",
    "    :param feat_names: list of names of predictor variables \n",
    "    :param head: integer index of head to test (options: 0 or 1 for NDVI or LAI)\n",
    "    :return: A list of feature importances.\n",
    "    \"\"\"\n",
    "    \n",
    "    # Get baseline MSE for the model\n",
    "    baseline_preds = model.predict(X_val)[:,:,head]\n",
    "    #print(baseline_preds.shape) #(81, 98, 2)\n",
    "    y_val_head = y_val[:,:,head]\n",
    "    baseline_mse = mean_squared_error(y_val_head, baseline_preds)\n",
    "    #mean_squared_error(y_val.reshape(-1), baseline_preds.reshape(-1))\n",
    "    \n",
    "    feature_importances = []\n",
    "    \n",
    "    for i in range(X_val.shape[2]):  # Iterate through each feature\n",
    "        # Save the original feature data\n",
    "        saved_feature = X_val[:, :, i].copy()\n",
    "        \n",
    "        # Permute the feature values\n",
    "        np.random.shuffle(X_val[:, :, i])\n",
    "        \n",
    "        # Evaluate performance with the permuted data\n",
    "        permuted_preds = model.predict(X_val)[:,:,head]\n",
    "        permuted_mse = mean_squared_error(y_val_head, permuted_preds)#(y_val.reshape(-1), permuted_preds.reshape(-1))\n",
    "        \n",
    "        # Restore the original data\n",
    "        X_val[:, :, i] = saved_feature\n",
    "        \n",
    "        # Calculate the importance (increase in MSE)\n",
    "        importance = permuted_mse - baseline_mse\n",
    "        feature_importances.append(importance)\n",
    "        \n",
    "#         print(f'Feature {feat_names[i]} importance: {importance:.4f}')\n",
    "    \n",
    "    return feature_importances\n",
    "\n",
    "# Note: y_val should be formatted to match the concatenated output of your model\n",
    "feat_names = ['slope', 'chili', 'elevation', 'aspect', 'severity', 'mtpi',\n",
    "                    'precip', 'temp', 'ndvi_before','lai_before']\n",
    "\n",
    "feat_names = ['slope', 'chili', 'elevation', 'aspect', 'severity', 'mtpi', \n",
    "                    'precip', 'temp', 'ndvi_before','lai_before', \"VCF_before\"]\n",
    "\n",
    "\n",
    "print(y_val.shape)\n",
    "feature_importances = evaluate_feature_importance_multihead_regression(multihead_model, X_val, y_val, feat_names, 1)\n",
    "#NOTE: significant drop in perofrmance means that the feature is important\n",
    "\n",
    "for feat, imp in zip(feat_names, feature_importances):\n",
    "    print(\"Feature: \"+ feat +\" importance:\" + str(round(imp, 5))) #higher number = more imporatant"
   ]
  },
  {
   "cell_type": "markdown",
   "metadata": {},
   "source": [
    "## Ablation study loop\n",
    "Run the loop multiple times with different model architecture and different features (or other hyperparams)"
   ]
  },
  {
   "cell_type": "code",
   "execution_count": 17,
   "metadata": {},
   "outputs": [],
   "source": [
    "std_val_lai, std_val_ndvi, mean_value_ndvi, mean_value_lai = (0.5817712578132047,\n",
    " 0.17920622027822677,\n",
    " 0.4523571086171898,\n",
    " 0.8027389277389284)\n"
   ]
  },
  {
   "cell_type": "code",
   "execution_count": 18,
   "metadata": {},
   "outputs": [],
   "source": [
    "store_mse ={}"
   ]
  },
  {
   "cell_type": "code",
   "execution_count": 19,
   "metadata": {},
   "outputs": [
    {
     "name": "stdout",
     "output_type": "stream",
     "text": [
      "['slope', 'chili', 'elevation', 'aspect', 'mtpi', 'precip', 'temp', 'ndvi_before', 'lai_before', 'severity', 'vcf_tree_before']\n",
      "slope_chili_elevation_aspect_mtpi_precip_temp_ndvi_before_lai_before_severity_vcf_tree_before_units128_3lstmlayers_lr0.01\n",
      "11 is features (11)\n",
      "Epoch 1/300\n",
      "4/4 [==============================] - 5s 943ms/step - loss: 1.8847 - dense_4_loss: 1.0525 - dense_5_loss: 0.8322 - dense_4_mse: 1.0525 - dense_5_mse: 0.8322 - val_loss: 1.3175 - val_dense_4_loss: 0.7061 - val_dense_5_loss: 0.6113 - val_dense_4_mse: 0.7061 - val_dense_5_mse: 0.6113\n",
      "Epoch 2/300\n"
     ]
    },
    {
     "ename": "KeyboardInterrupt",
     "evalue": "",
     "output_type": "error",
     "traceback": [
      "\u001b[0;31m---------------------------------------------------------------------------\u001b[0m",
      "\u001b[0;31mKeyboardInterrupt\u001b[0m                         Traceback (most recent call last)",
      "\u001b[1;32m/Users/clairesimpson/Desktop/CU/LSTM_Project/Data_Code_Final/lstm-forecasting-postfire-veg-recovery/Scripts/LSTM_TrainModels.ipynb Cell 14\u001b[0m line \u001b[0;36m1\n\u001b[1;32m    <a href='vscode-notebook-cell:/Users/clairesimpson/Desktop/CU/LSTM_Project/Data_Code_Final/lstm-forecasting-postfire-veg-recovery/Scripts/LSTM_TrainModels.ipynb#Y334sZmlsZQ%3D%3D?line=137'>138</a>\u001b[0m checkpoints \u001b[39m=\u001b[39mtf\u001b[39m.\u001b[39mkeras\u001b[39m.\u001b[39mcallbacks\u001b[39m.\u001b[39mModelCheckpoint(filepath\u001b[39m=\u001b[39msave_path,\n\u001b[1;32m    <a href='vscode-notebook-cell:/Users/clairesimpson/Desktop/CU/LSTM_Project/Data_Code_Final/lstm-forecasting-postfire-veg-recovery/Scripts/LSTM_TrainModels.ipynb#Y334sZmlsZQ%3D%3D?line=138'>139</a>\u001b[0m                                                 monitor\u001b[39m=\u001b[39m\u001b[39m'\u001b[39m\u001b[39mval_loss\u001b[39m\u001b[39m'\u001b[39m,\u001b[39m#mode='max',\u001b[39;00m\n\u001b[1;32m    <a href='vscode-notebook-cell:/Users/clairesimpson/Desktop/CU/LSTM_Project/Data_Code_Final/lstm-forecasting-postfire-veg-recovery/Scripts/LSTM_TrainModels.ipynb#Y334sZmlsZQ%3D%3D?line=139'>140</a>\u001b[0m                                                 save_best_only\u001b[39m=\u001b[39m\u001b[39mTrue\u001b[39;00m,\n\u001b[1;32m    <a href='vscode-notebook-cell:/Users/clairesimpson/Desktop/CU/LSTM_Project/Data_Code_Final/lstm-forecasting-postfire-veg-recovery/Scripts/LSTM_TrainModels.ipynb#Y334sZmlsZQ%3D%3D?line=140'>141</a>\u001b[0m                                                 save_freq\u001b[39m=\u001b[39m\u001b[39m'\u001b[39m\u001b[39mepoch\u001b[39m\u001b[39m'\u001b[39m)\u001b[39m#, period=10)\u001b[39;00m\n\u001b[1;32m    <a href='vscode-notebook-cell:/Users/clairesimpson/Desktop/CU/LSTM_Project/Data_Code_Final/lstm-forecasting-postfire-veg-recovery/Scripts/LSTM_TrainModels.ipynb#Y334sZmlsZQ%3D%3D?line=143'>144</a>\u001b[0m multihead_model_small\u001b[39m.\u001b[39mcompile(loss \u001b[39m=\u001b[39m \u001b[39m'\u001b[39m\u001b[39mmse\u001b[39m\u001b[39m'\u001b[39m, optimizer \u001b[39m=\u001b[39madam, metrics\u001b[39m=\u001b[39m[\u001b[39m'\u001b[39m\u001b[39mmse\u001b[39m\u001b[39m'\u001b[39m])\n\u001b[0;32m--> <a href='vscode-notebook-cell:/Users/clairesimpson/Desktop/CU/LSTM_Project/Data_Code_Final/lstm-forecasting-postfire-veg-recovery/Scripts/LSTM_TrainModels.ipynb#Y334sZmlsZQ%3D%3D?line=144'>145</a>\u001b[0m multihead_model_small_history \u001b[39m=\u001b[39m multihead_model_small\u001b[39m.\u001b[39;49mfit(X_train_removed, \n\u001b[1;32m    <a href='vscode-notebook-cell:/Users/clairesimpson/Desktop/CU/LSTM_Project/Data_Code_Final/lstm-forecasting-postfire-veg-recovery/Scripts/LSTM_TrainModels.ipynb#Y334sZmlsZQ%3D%3D?line=145'>146</a>\u001b[0m                                                         (y_train1, y_train2), \n\u001b[1;32m    <a href='vscode-notebook-cell:/Users/clairesimpson/Desktop/CU/LSTM_Project/Data_Code_Final/lstm-forecasting-postfire-veg-recovery/Scripts/LSTM_TrainModels.ipynb#Y334sZmlsZQ%3D%3D?line=146'>147</a>\u001b[0m                                                         verbose\u001b[39m=\u001b[39;49m\u001b[39mTrue\u001b[39;49;00m, epochs \u001b[39m=\u001b[39;49m \u001b[39m300\u001b[39;49m,\n\u001b[1;32m    <a href='vscode-notebook-cell:/Users/clairesimpson/Desktop/CU/LSTM_Project/Data_Code_Final/lstm-forecasting-postfire-veg-recovery/Scripts/LSTM_TrainModels.ipynb#Y334sZmlsZQ%3D%3D?line=147'>148</a>\u001b[0m                                                         callbacks\u001b[39m=\u001b[39;49m[early_stops,checkpoints],\n\u001b[1;32m    <a href='vscode-notebook-cell:/Users/clairesimpson/Desktop/CU/LSTM_Project/Data_Code_Final/lstm-forecasting-postfire-veg-recovery/Scripts/LSTM_TrainModels.ipynb#Y334sZmlsZQ%3D%3D?line=148'>149</a>\u001b[0m                                                         batch_size \u001b[39m=\u001b[39;49m \u001b[39m256\u001b[39;49m,\n\u001b[1;32m    <a href='vscode-notebook-cell:/Users/clairesimpson/Desktop/CU/LSTM_Project/Data_Code_Final/lstm-forecasting-postfire-veg-recovery/Scripts/LSTM_TrainModels.ipynb#Y334sZmlsZQ%3D%3D?line=149'>150</a>\u001b[0m                                                         validation_data \u001b[39m=\u001b[39;49m (X_val_removed, (y_val1, y_val2)))\n\u001b[1;32m    <a href='vscode-notebook-cell:/Users/clairesimpson/Desktop/CU/LSTM_Project/Data_Code_Final/lstm-forecasting-postfire-veg-recovery/Scripts/LSTM_TrainModels.ipynb#Y334sZmlsZQ%3D%3D?line=152'>153</a>\u001b[0m \u001b[39m# Make predictions on the test set########################\u001b[39;00m\n\u001b[1;32m    <a href='vscode-notebook-cell:/Users/clairesimpson/Desktop/CU/LSTM_Project/Data_Code_Final/lstm-forecasting-postfire-veg-recovery/Scripts/LSTM_TrainModels.ipynb#Y334sZmlsZQ%3D%3D?line=153'>154</a>\u001b[0m predictions_head1, predictions_head2 \u001b[39m=\u001b[39m multihead_model_small\u001b[39m.\u001b[39mpredict(X_test_removed)\n",
      "File \u001b[0;32m~/anaconda3/envs/deep_learning/lib/python3.10/site-packages/keras/utils/traceback_utils.py:65\u001b[0m, in \u001b[0;36mfilter_traceback.<locals>.error_handler\u001b[0;34m(*args, **kwargs)\u001b[0m\n\u001b[1;32m     63\u001b[0m filtered_tb \u001b[39m=\u001b[39m \u001b[39mNone\u001b[39;00m\n\u001b[1;32m     64\u001b[0m \u001b[39mtry\u001b[39;00m:\n\u001b[0;32m---> 65\u001b[0m     \u001b[39mreturn\u001b[39;00m fn(\u001b[39m*\u001b[39;49margs, \u001b[39m*\u001b[39;49m\u001b[39m*\u001b[39;49mkwargs)\n\u001b[1;32m     66\u001b[0m \u001b[39mexcept\u001b[39;00m \u001b[39mException\u001b[39;00m \u001b[39mas\u001b[39;00m e:\n\u001b[1;32m     67\u001b[0m     filtered_tb \u001b[39m=\u001b[39m _process_traceback_frames(e\u001b[39m.\u001b[39m__traceback__)\n",
      "File \u001b[0;32m~/anaconda3/envs/deep_learning/lib/python3.10/site-packages/keras/engine/training.py:1650\u001b[0m, in \u001b[0;36mModel.fit\u001b[0;34m(self, x, y, batch_size, epochs, verbose, callbacks, validation_split, validation_data, shuffle, class_weight, sample_weight, initial_epoch, steps_per_epoch, validation_steps, validation_batch_size, validation_freq, max_queue_size, workers, use_multiprocessing)\u001b[0m\n\u001b[1;32m   1642\u001b[0m \u001b[39mwith\u001b[39;00m tf\u001b[39m.\u001b[39mprofiler\u001b[39m.\u001b[39mexperimental\u001b[39m.\u001b[39mTrace(\n\u001b[1;32m   1643\u001b[0m     \u001b[39m\"\u001b[39m\u001b[39mtrain\u001b[39m\u001b[39m\"\u001b[39m,\n\u001b[1;32m   1644\u001b[0m     epoch_num\u001b[39m=\u001b[39mepoch,\n\u001b[0;32m   (...)\u001b[0m\n\u001b[1;32m   1647\u001b[0m     _r\u001b[39m=\u001b[39m\u001b[39m1\u001b[39m,\n\u001b[1;32m   1648\u001b[0m ):\n\u001b[1;32m   1649\u001b[0m     callbacks\u001b[39m.\u001b[39mon_train_batch_begin(step)\n\u001b[0;32m-> 1650\u001b[0m     tmp_logs \u001b[39m=\u001b[39m \u001b[39mself\u001b[39;49m\u001b[39m.\u001b[39;49mtrain_function(iterator)\n\u001b[1;32m   1651\u001b[0m     \u001b[39mif\u001b[39;00m data_handler\u001b[39m.\u001b[39mshould_sync:\n\u001b[1;32m   1652\u001b[0m         context\u001b[39m.\u001b[39masync_wait()\n",
      "File \u001b[0;32m~/anaconda3/envs/deep_learning/lib/python3.10/site-packages/tensorflow/python/util/traceback_utils.py:150\u001b[0m, in \u001b[0;36mfilter_traceback.<locals>.error_handler\u001b[0;34m(*args, **kwargs)\u001b[0m\n\u001b[1;32m    148\u001b[0m filtered_tb \u001b[39m=\u001b[39m \u001b[39mNone\u001b[39;00m\n\u001b[1;32m    149\u001b[0m \u001b[39mtry\u001b[39;00m:\n\u001b[0;32m--> 150\u001b[0m   \u001b[39mreturn\u001b[39;00m fn(\u001b[39m*\u001b[39;49margs, \u001b[39m*\u001b[39;49m\u001b[39m*\u001b[39;49mkwargs)\n\u001b[1;32m    151\u001b[0m \u001b[39mexcept\u001b[39;00m \u001b[39mException\u001b[39;00m \u001b[39mas\u001b[39;00m e:\n\u001b[1;32m    152\u001b[0m   filtered_tb \u001b[39m=\u001b[39m _process_traceback_frames(e\u001b[39m.\u001b[39m__traceback__)\n",
      "File \u001b[0;32m~/anaconda3/envs/deep_learning/lib/python3.10/site-packages/tensorflow/python/eager/polymorphic_function/polymorphic_function.py:880\u001b[0m, in \u001b[0;36mFunction.__call__\u001b[0;34m(self, *args, **kwds)\u001b[0m\n\u001b[1;32m    877\u001b[0m compiler \u001b[39m=\u001b[39m \u001b[39m\"\u001b[39m\u001b[39mxla\u001b[39m\u001b[39m\"\u001b[39m \u001b[39mif\u001b[39;00m \u001b[39mself\u001b[39m\u001b[39m.\u001b[39m_jit_compile \u001b[39melse\u001b[39;00m \u001b[39m\"\u001b[39m\u001b[39mnonXla\u001b[39m\u001b[39m\"\u001b[39m\n\u001b[1;32m    879\u001b[0m \u001b[39mwith\u001b[39;00m OptionalXlaContext(\u001b[39mself\u001b[39m\u001b[39m.\u001b[39m_jit_compile):\n\u001b[0;32m--> 880\u001b[0m   result \u001b[39m=\u001b[39m \u001b[39mself\u001b[39;49m\u001b[39m.\u001b[39;49m_call(\u001b[39m*\u001b[39;49margs, \u001b[39m*\u001b[39;49m\u001b[39m*\u001b[39;49mkwds)\n\u001b[1;32m    882\u001b[0m new_tracing_count \u001b[39m=\u001b[39m \u001b[39mself\u001b[39m\u001b[39m.\u001b[39mexperimental_get_tracing_count()\n\u001b[1;32m    883\u001b[0m without_tracing \u001b[39m=\u001b[39m (tracing_count \u001b[39m==\u001b[39m new_tracing_count)\n",
      "File \u001b[0;32m~/anaconda3/envs/deep_learning/lib/python3.10/site-packages/tensorflow/python/eager/polymorphic_function/polymorphic_function.py:912\u001b[0m, in \u001b[0;36mFunction._call\u001b[0;34m(self, *args, **kwds)\u001b[0m\n\u001b[1;32m    909\u001b[0m   \u001b[39mself\u001b[39m\u001b[39m.\u001b[39m_lock\u001b[39m.\u001b[39mrelease()\n\u001b[1;32m    910\u001b[0m   \u001b[39m# In this case we have created variables on the first call, so we run the\u001b[39;00m\n\u001b[1;32m    911\u001b[0m   \u001b[39m# defunned version which is guaranteed to never create variables.\u001b[39;00m\n\u001b[0;32m--> 912\u001b[0m   \u001b[39mreturn\u001b[39;00m \u001b[39mself\u001b[39;49m\u001b[39m.\u001b[39;49m_no_variable_creation_fn(\u001b[39m*\u001b[39;49margs, \u001b[39m*\u001b[39;49m\u001b[39m*\u001b[39;49mkwds)  \u001b[39m# pylint: disable=not-callable\u001b[39;00m\n\u001b[1;32m    913\u001b[0m \u001b[39melif\u001b[39;00m \u001b[39mself\u001b[39m\u001b[39m.\u001b[39m_variable_creation_fn \u001b[39mis\u001b[39;00m \u001b[39mnot\u001b[39;00m \u001b[39mNone\u001b[39;00m:\n\u001b[1;32m    914\u001b[0m   \u001b[39m# Release the lock early so that multiple threads can perform the call\u001b[39;00m\n\u001b[1;32m    915\u001b[0m   \u001b[39m# in parallel.\u001b[39;00m\n\u001b[1;32m    916\u001b[0m   \u001b[39mself\u001b[39m\u001b[39m.\u001b[39m_lock\u001b[39m.\u001b[39mrelease()\n",
      "File \u001b[0;32m~/anaconda3/envs/deep_learning/lib/python3.10/site-packages/tensorflow/python/eager/polymorphic_function/tracing_compiler.py:134\u001b[0m, in \u001b[0;36mTracingCompiler.__call__\u001b[0;34m(self, *args, **kwargs)\u001b[0m\n\u001b[1;32m    131\u001b[0m \u001b[39mwith\u001b[39;00m \u001b[39mself\u001b[39m\u001b[39m.\u001b[39m_lock:\n\u001b[1;32m    132\u001b[0m   (concrete_function,\n\u001b[1;32m    133\u001b[0m    filtered_flat_args) \u001b[39m=\u001b[39m \u001b[39mself\u001b[39m\u001b[39m.\u001b[39m_maybe_define_function(args, kwargs)\n\u001b[0;32m--> 134\u001b[0m \u001b[39mreturn\u001b[39;00m concrete_function\u001b[39m.\u001b[39;49m_call_flat(\n\u001b[1;32m    135\u001b[0m     filtered_flat_args, captured_inputs\u001b[39m=\u001b[39;49mconcrete_function\u001b[39m.\u001b[39;49mcaptured_inputs)\n",
      "File \u001b[0;32m~/anaconda3/envs/deep_learning/lib/python3.10/site-packages/tensorflow/python/eager/polymorphic_function/monomorphic_function.py:1745\u001b[0m, in \u001b[0;36mConcreteFunction._call_flat\u001b[0;34m(self, args, captured_inputs, cancellation_manager)\u001b[0m\n\u001b[1;32m   1741\u001b[0m possible_gradient_type \u001b[39m=\u001b[39m gradients_util\u001b[39m.\u001b[39mPossibleTapeGradientTypes(args)\n\u001b[1;32m   1742\u001b[0m \u001b[39mif\u001b[39;00m (possible_gradient_type \u001b[39m==\u001b[39m gradients_util\u001b[39m.\u001b[39mPOSSIBLE_GRADIENT_TYPES_NONE\n\u001b[1;32m   1743\u001b[0m     \u001b[39mand\u001b[39;00m executing_eagerly):\n\u001b[1;32m   1744\u001b[0m   \u001b[39m# No tape is watching; skip to running the function.\u001b[39;00m\n\u001b[0;32m-> 1745\u001b[0m   \u001b[39mreturn\u001b[39;00m \u001b[39mself\u001b[39m\u001b[39m.\u001b[39m_build_call_outputs(\u001b[39mself\u001b[39;49m\u001b[39m.\u001b[39;49m_inference_function\u001b[39m.\u001b[39;49mcall(\n\u001b[1;32m   1746\u001b[0m       ctx, args, cancellation_manager\u001b[39m=\u001b[39;49mcancellation_manager))\n\u001b[1;32m   1747\u001b[0m forward_backward \u001b[39m=\u001b[39m \u001b[39mself\u001b[39m\u001b[39m.\u001b[39m_select_forward_and_backward_functions(\n\u001b[1;32m   1748\u001b[0m     args,\n\u001b[1;32m   1749\u001b[0m     possible_gradient_type,\n\u001b[1;32m   1750\u001b[0m     executing_eagerly)\n\u001b[1;32m   1751\u001b[0m forward_function, args_with_tangents \u001b[39m=\u001b[39m forward_backward\u001b[39m.\u001b[39mforward()\n",
      "File \u001b[0;32m~/anaconda3/envs/deep_learning/lib/python3.10/site-packages/tensorflow/python/eager/polymorphic_function/monomorphic_function.py:378\u001b[0m, in \u001b[0;36m_EagerDefinedFunction.call\u001b[0;34m(self, ctx, args, cancellation_manager)\u001b[0m\n\u001b[1;32m    376\u001b[0m \u001b[39mwith\u001b[39;00m _InterpolateFunctionError(\u001b[39mself\u001b[39m):\n\u001b[1;32m    377\u001b[0m   \u001b[39mif\u001b[39;00m cancellation_manager \u001b[39mis\u001b[39;00m \u001b[39mNone\u001b[39;00m:\n\u001b[0;32m--> 378\u001b[0m     outputs \u001b[39m=\u001b[39m execute\u001b[39m.\u001b[39;49mexecute(\n\u001b[1;32m    379\u001b[0m         \u001b[39mstr\u001b[39;49m(\u001b[39mself\u001b[39;49m\u001b[39m.\u001b[39;49msignature\u001b[39m.\u001b[39;49mname),\n\u001b[1;32m    380\u001b[0m         num_outputs\u001b[39m=\u001b[39;49m\u001b[39mself\u001b[39;49m\u001b[39m.\u001b[39;49m_num_outputs,\n\u001b[1;32m    381\u001b[0m         inputs\u001b[39m=\u001b[39;49margs,\n\u001b[1;32m    382\u001b[0m         attrs\u001b[39m=\u001b[39;49mattrs,\n\u001b[1;32m    383\u001b[0m         ctx\u001b[39m=\u001b[39;49mctx)\n\u001b[1;32m    384\u001b[0m   \u001b[39melse\u001b[39;00m:\n\u001b[1;32m    385\u001b[0m     outputs \u001b[39m=\u001b[39m execute\u001b[39m.\u001b[39mexecute_with_cancellation(\n\u001b[1;32m    386\u001b[0m         \u001b[39mstr\u001b[39m(\u001b[39mself\u001b[39m\u001b[39m.\u001b[39msignature\u001b[39m.\u001b[39mname),\n\u001b[1;32m    387\u001b[0m         num_outputs\u001b[39m=\u001b[39m\u001b[39mself\u001b[39m\u001b[39m.\u001b[39m_num_outputs,\n\u001b[0;32m   (...)\u001b[0m\n\u001b[1;32m    390\u001b[0m         ctx\u001b[39m=\u001b[39mctx,\n\u001b[1;32m    391\u001b[0m         cancellation_manager\u001b[39m=\u001b[39mcancellation_manager)\n",
      "File \u001b[0;32m~/anaconda3/envs/deep_learning/lib/python3.10/site-packages/tensorflow/python/eager/execute.py:52\u001b[0m, in \u001b[0;36mquick_execute\u001b[0;34m(op_name, num_outputs, inputs, attrs, ctx, name)\u001b[0m\n\u001b[1;32m     50\u001b[0m \u001b[39mtry\u001b[39;00m:\n\u001b[1;32m     51\u001b[0m   ctx\u001b[39m.\u001b[39mensure_initialized()\n\u001b[0;32m---> 52\u001b[0m   tensors \u001b[39m=\u001b[39m pywrap_tfe\u001b[39m.\u001b[39;49mTFE_Py_Execute(ctx\u001b[39m.\u001b[39;49m_handle, device_name, op_name,\n\u001b[1;32m     53\u001b[0m                                       inputs, attrs, num_outputs)\n\u001b[1;32m     54\u001b[0m \u001b[39mexcept\u001b[39;00m core\u001b[39m.\u001b[39m_NotOkStatusException \u001b[39mas\u001b[39;00m e:\n\u001b[1;32m     55\u001b[0m   \u001b[39mif\u001b[39;00m name \u001b[39mis\u001b[39;00m \u001b[39mnot\u001b[39;00m \u001b[39mNone\u001b[39;00m:\n",
      "\u001b[0;31mKeyboardInterrupt\u001b[0m: "
     ]
    }
   ],
   "source": [
    "#now test actually removing dif features and calculating MSE\n",
    "\n",
    "\n",
    "def lr_scheduler(epoch, lr):\n",
    "    if epoch % 20 == 0 and epoch != 0:\n",
    "        lr = lr * 0.1\n",
    "    return lr\n",
    "\n",
    "lr_scheduler_callback = LearningRateScheduler(lr_scheduler)\n",
    "\n",
    "\n",
    "# Input data shape\n",
    "timesteps_input = prefire_mo# same as timesteps\n",
    "# num_vars = 10 #+1 bc added vcf tree pct as predictor (as well as target)\n",
    "\n",
    "# Output data shape\n",
    "timesteps_output = 98\n",
    "num_targets = 2  # Number of targets to predict (NDVI and LAI) --> change to 3 if using VCF\n",
    "lr = 0.01 #before 0329 2nd iter: 0.01\n",
    "\n",
    "\n",
    "\n",
    "    # Input data shape\n",
    "#     timesteps_input = prefire_mo# same as timesteps\n",
    "#     num_vars = 10 #+1 bc added vcf tree pct as predictor (as well as target)\n",
    "\n",
    "    # Output data shape\n",
    "#     timesteps_output = 98\n",
    "#     num_targets = 2  # Number of targets to predict (NDVI and LAI) --> change to 3 if using VCF\n",
    "\n",
    "#     units = 150\n",
    "\n",
    "use_these_bands = ['slope' ,'chili', 'elevation', 'aspect', 'mtpi', 'precip', \n",
    "                   'temp', 'ndvi_before','lai_before', 'severity', 'vcf_tree_before']#-> replaced w severity\n",
    "feat_names = use_these_bands\n",
    "#['slope', 'chili', 'elevation', 'aspect',  'mtpi','precip', 'temp', 'ndvi_before','lai_before', 'severity',\"vcf_before\"]\n",
    "\n",
    "# # for i in range(1):#(10):\n",
    "# for keep_these in range(10):\n",
    "#     indices_to_del = [0,1,2,3,4,5,6,7,8,9]\n",
    "#     indices_to_del.remove(keep_these)\n",
    "# for idx in [0]:\n",
    "for numUnits in [128]:# [16, 32, 64, 128, 256]:\n",
    "#     print(time.time())\n",
    "    # indices_to_keep = [5,6,7,8,9,10], [1,2,3,4,5,6], [0,1,2,3,4,5,6, 9], \n",
    "    #                         [0,1,2,3,4,5,6,7, 9], [0],[1],[2],[3],[4],[5],[6],[7],[8],[9],[10]\n",
    "    #                         [7,8], [7,8,6], [5,6,7,8], [7,8,10]\n",
    "    \n",
    "    # indices_to_del_list = [[0, 1, 2, 3, 4], [0, 7, 8, 9, 10], [7, 8, 10], [8, 10], \n",
    "    #                    [1, 2, 3, 4, 5, 6, 7, 8, 9, 10], [0, 2, 3, 4, 5, 6, 7, 8, 9, 10], \n",
    "    #                    [0, 1, 3, 4, 5, 6, 7, 8, 9, 10], [0, 1, 2, 4, 5, 6, 7, 8, 9, 10], \n",
    "    #                    [0, 1, 2, 3, 5, 6, 7, 8, 9, 10], [0, 1, 2, 3, 4, 6, 7, 8, 9, 10], \n",
    "    #                    [0, 1, 2, 3, 4, 5, 7, 8, 9, 10], [0, 1, 2, 3, 4, 5, 6, 8, 9, 10], \n",
    "    #                    [0, 1, 2, 3, 4, 5, 6, 7, 9, 10], [0, 1, 2, 3, 4, 5, 6, 7, 8, 10], \n",
    "    #                    [0, 1, 2, 3, 4, 5, 6, 7, 8, 9], [0, 1, 2, 3, 4, 5, 6, 9, 10],\n",
    "    #                    [0, 1, 2, 3, 4, 5, 9, 10], [0, 1, 2, 3, 4, 9, 10], \n",
    "    #                    [0, 1, 2, 3, 4, 5, 6, 9]]\n",
    "    indices_to_del_list = [[0,1,2,3,4,5,6,9,10],[0,1,2,3,4,5,6,9],\n",
    "                           [0, 1, 2, 3, 4], [0, 1, 2, 3, 4, 9], [0, 7, 8, 9, 10], [7, 8, 10], \n",
    "                           [0,1,2,3,4,5,6,10],[0,1,2,3,4,10], \n",
    "                           [0], [1], [2], [3], [4], [5], [6], [7], [8], [9], [10]] \n",
    "    indices_to_del_list = [[]]\n",
    "    # indices_to_del_list = [[0], [1], [2], [3], [4], [5], [6], [7], [8], [9], [10]]\n",
    "\n",
    "    for indices_to_del in indices_to_del_list:\n",
    "        \n",
    "        \n",
    "        #build model without each variable \n",
    "        num_vars = 11-len(indices_to_del)#2#1#9\n",
    "        output_model_name_tag = [feat_names[j] for j in range(11) if j not in indices_to_del]\n",
    "        print(output_model_name_tag)\n",
    "        output_model_name_tag = '_'.join(output_model_name_tag) + '_units'+str(numUnits) +'_3lstmlayers'+'_lr{}'.format(lr)\n",
    "        print(output_model_name_tag)\n",
    "        \n",
    "        \n",
    "        #remove variable i from X_train\n",
    "        num_samples = X_train.shape[0]\n",
    "    #     X_train_removed = X_train[:,:,i].reshape(num_samples,timesteps_input, 1)#np.delete(X_train, i, axis=2)\n",
    "    #     num_samples = X_test.shape[0]\n",
    "    #     X_test_removed = X_test[:,:,i].reshape(num_samples,timesteps_input, 1)#np.delete(X_test, i, axis=2)\n",
    "    #     num_samples = X_val.shape[0]\n",
    "    #     X_val_removed = X_val[:,:,i].reshape(num_samples,timesteps_input, 1)#np.delete(X_val, i, axis=2)\n",
    "    #     indices_to_del = [0,1,2,3,4,5,6,9] #keep: temp + ndvi_before\n",
    "        X_train_removed = np.delete(X_train, indices_to_del, axis=2)\n",
    "        X_test_removed = np.delete(X_test, indices_to_del, axis=2)\n",
    "        X_val_removed = np.delete(X_val, indices_to_del, axis=2)\n",
    "        print(X_train_removed.shape[2], 'is features', '({})'.format(num_vars))\n",
    "\n",
    "        #Define Model\n",
    "        units = numUnits#100\n",
    "\n",
    "        # Define the input layer\n",
    "        input_layer_v2 = Input(shape=(timesteps_input, num_vars))\n",
    "\n",
    "        # LSTM layers shared across both heads\n",
    "        lstm_layer1_v2 = LSTM(units, activation='tanh', return_sequences=True)(input_layer_v2)\n",
    "        dropout_layer1_v2 = Dropout(0.1)(lstm_layer1_v2)\n",
    "\n",
    "        lstm_layer2_v2 = LSTM(units, activation='tanh', return_sequences=True)(dropout_layer1_v2)\n",
    "        dropout_layer2_v2 = Dropout(0.1)(lstm_layer2_v2)\n",
    "\n",
    "        # lstm_layer3_v2 = LSTM(units, activation='tanh', return_sequences=True)(dropout_layer2_v2) #comment out of 3 layer\n",
    "        # dropout_layer3_v2 = Dropout(0.1)(lstm_layer3_v2)#comment out of 3 layer\n",
    "\n",
    "        lstm_layer4_v2 = LSTM(units, activation='tanh')(dropout_layer2_v2)\n",
    "\n",
    "        # Separate output heads for each target\n",
    "        head1_v2 = Dense(timesteps_output)(lstm_layer4_v2)  # Output for NDVI\n",
    "        head2_v2 = Dense(timesteps_output)(lstm_layer4_v2)  # Output for LAI\n",
    "        # head3 = Dense(timesteps_output)(lstm_layer4)  # Output for VCF Tree Pct\n",
    "\n",
    "        # Create the multi-head model\n",
    "        multihead_model_small = Model(inputs=input_layer_v2, outputs=(head1_v2,head2_v2))#concatenated_output_v2)\n",
    "\n",
    "        # Compile the model with appropriate loss functions and optimizer\n",
    "        # multihead_model.compile(loss=['mean_squared_error','mean_squared_error','mean_squared_error'], optimizer='adam')\n",
    "\n",
    "        # Check the model summary\n",
    "        #multihead_model_small.summary()\n",
    "\n",
    "        ##########\n",
    "        \n",
    "        adam = keras.optimizers.Adam(learning_rate=lr)\n",
    "        early_stops = EarlyStopping(monitor='val_loss', mode='min', verbose=1, patience=50,\n",
    "                                    restore_best_weights=True)\n",
    "        save_path = \"LSTM_{}.keras\".format( output_model_name_tag)#\"LSTM_NDVI_LAI_featNdviTemp.keras\" #9var_var{}\".format(i),\n",
    "        checkpoints =tf.keras.callbacks.ModelCheckpoint(filepath=save_path,\n",
    "                                                        monitor='val_loss',#mode='max',\n",
    "                                                        save_best_only=True,\n",
    "                                                        save_freq='epoch')#, period=10)\n",
    "\n",
    "\n",
    "        multihead_model_small.compile(loss = 'mse', optimizer =adam, metrics=['mse'])\n",
    "        multihead_model_small_history = multihead_model_small.fit(X_train_removed, \n",
    "                                                                (y_train1, y_train2), \n",
    "                                                                verbose=True, epochs = 300,\n",
    "                                                                callbacks=[early_stops,checkpoints],\n",
    "                                                                batch_size = 256,\n",
    "                                                                validation_data = (X_val_removed, (y_val1, y_val2)))\n",
    "\n",
    "        \n",
    "        # Make predictions on the test set########################\n",
    "        predictions_head1, predictions_head2 = multihead_model_small.predict(X_test_removed)\n",
    "\n",
    "        predictions_head1 = predictions_head1*std_val_ndvi + mean_value_ndvi\n",
    "        predictions_head2 = predictions_head2*std_val_lai + mean_value_lai\n",
    "\n",
    "\n",
    "        print(predictions_head1.shape, y_test1.shape)\n",
    "        # Calculate RMSE for each head\n",
    "        #NOTE: test y data was NOT standardized\n",
    "        rmse_head1 = sqrt(mean_squared_error(y_test1.reshape(111,98), predictions_head1))\n",
    "        print(rmse_head1,'is test rmse head 1')\n",
    "\n",
    "        rmse_head2 = sqrt(mean_squared_error(y_test2.reshape(111,98), predictions_head2))\n",
    "        print(rmse_head2,'is test rmse head 2')\n",
    "\n",
    "        store_mse[output_model_name_tag] = [rmse_head1, rmse_head2]\n",
    "        print(\"Test NDVI R2\", r2_score( y_test1.reshape(111,98), predictions_head1))\n",
    "        print(\"Test LAI R2\", r2_score( y_test2.reshape(111,98), predictions_head2))\n",
    "\n",
    "\n",
    "        \n",
    "        ##add validation rmses too########################\n",
    "\n",
    "        y_val1_unstd = y_val1 * std_val_ndvi + mean_value_ndvi#*(max_lai - min_lai) + min_lai\n",
    "        y_val2_unstd = y_val2 * std_val_lai + mean_value_lai#*(max_lai - min_lai) + min_lai\n",
    "\n",
    "\n",
    "        predictions_head1, predictions_head2 = multihead_model_small.predict(X_val_removed)\n",
    "\n",
    "        predictions_head1 = predictions_head1*std_val_ndvi + mean_value_ndvi\n",
    "        predictions_head2 = predictions_head2*std_val_lai + mean_value_lai\n",
    "\n",
    "\n",
    "    #     print(predictions_head1.shape, y_test1.shape)\n",
    "        # Calculate RMSE for each head\n",
    "        rmse_head1 = sqrt(mean_squared_error(y_val1_unstd.reshape(81,98), predictions_head1))\n",
    "        print(rmse_head1,'is val rmse head 1')\n",
    "\n",
    "        rmse_head2 = sqrt(mean_squared_error(y_val2_unstd.reshape(81,98), predictions_head2))\n",
    "        print(rmse_head2,'is val rmse head 2')\n",
    "\n",
    "        store_mse[output_model_name_tag].append(rmse_head1)\n",
    "        store_mse[output_model_name_tag].append(rmse_head2)\n",
    "        \n",
    "        print(store_mse[output_model_name_tag])\n",
    "        ########################\n",
    "\n",
    "        multihead_model_small.save(save_path)\n",
    "        \n",
    "        # save history: Convert the history.history dict to a JSON file\n",
    "        with open('model_hist_{}.json'.format(output_model_name_tag), 'w') as f:\n",
    "            json.dump(multihead_model_small_history.history, f)\n",
    "\n",
    "\n",
    "\n"
   ]
  },
  {
   "cell_type": "code",
   "execution_count": null,
   "metadata": {},
   "outputs": [],
   "source": [
    "#create data frame\n",
    "rnd = 4\n",
    "\n",
    "df_ablation = pd.DataFrame(data={\n",
    "    'Variables':[', '.join([x.capitalize() if (x != 'ndvi' and x!='lai' and x!='chili' and x!= 'mtpi' and x!='vcf') else x.upper() for x in n.split('_')[:-3] ]).replace(', Before','').replace('Tree','') for n in list(store_mse.keys())],\n",
    "    'Test RMSE for NDVI':[round(v[0], rnd) for v in list(store_mse.values())],\n",
    "    'Test RMSE for LAI': [round(v[1], rnd) for v in store_mse.values()],\n",
    "    'Validation RMSE for NDVI': [round(v[2], rnd) for v in store_mse.values()],\n",
    "    'Validation RMSE for LAI': [round(v[3], rnd) for v in store_mse.values()],\n",
    "    'Number of Units': [n.split('_')[-3].replace('units','') for n in list(store_mse.keys())],\n",
    "    'Number of Layers': [n.split('_')[-2].replace('lstmlayers','') for n in list(store_mse.keys())],\n",
    "    'Learning Rate (start, with Scheduler)': [n.split('_')[-1].replace('lr','') for n in list(store_mse.keys())],\n",
    "    'Filename': store_mse.keys()\n",
    "  \n",
    "}                         \n",
    ")\n",
    "\n",
    "#export dataframe to CSV -> this will be ablation study table in report \n",
    "df_ablation.to_csv(\"AblationTable.csv\")"
   ]
  },
  {
   "cell_type": "markdown",
   "metadata": {},
   "source": [
    "## Load Best Model\n",
    "Look a ablation table val stats to find best model"
   ]
  },
  {
   "cell_type": "code",
   "execution_count": 21,
   "metadata": {},
   "outputs": [],
   "source": [
    "os.chdir('../Model')\n",
    "\n",
    "model2_name = 'LSTM_slope_chili_elevation_aspect_mtpi_precip_temp_ndvi_before_lai_before_severity_vcf_tree_before_units128_3lstmlayers_lr0.01.keras'\n",
    "\n",
    "model2 = tf.keras.models.load_model(model2_name)\n",
    "model2_hist = model2_name.replace('LSTM','model_hist').replace('.keras','.json')\n",
    "\n",
    "#load history\n",
    "with open(model2_hist, 'r') as f:\n",
    "    model2_history = json.load(f)"
   ]
  },
  {
   "cell_type": "code",
   "execution_count": null,
   "metadata": {},
   "outputs": [
    {
     "name": "stdout",
     "output_type": "stream",
     "text": [
      "Model: \"model_6\"\n",
      "__________________________________________________________________________________________________\n",
      " Layer (type)                   Output Shape         Param #     Connected to                     \n",
      "==================================================================================================\n",
      " input_7 (InputLayer)           [(None, 132, 11)]    0           []                               \n",
      "                                                                                                  \n",
      " lstm_18 (LSTM)                 (None, 132, 128)     71680       ['input_7[0][0]']                \n",
      "                                                                                                  \n",
      " dropout_12 (Dropout)           (None, 132, 128)     0           ['lstm_18[0][0]']                \n",
      "                                                                                                  \n",
      " lstm_19 (LSTM)                 (None, 132, 128)     131584      ['dropout_12[0][0]']             \n",
      "                                                                                                  \n",
      " dropout_13 (Dropout)           (None, 132, 128)     0           ['lstm_19[0][0]']                \n",
      "                                                                                                  \n",
      " lstm_20 (LSTM)                 (None, 128)          131584      ['dropout_13[0][0]']             \n",
      "                                                                                                  \n",
      " dense_12 (Dense)               (None, 98)           12642       ['lstm_20[0][0]']                \n",
      "                                                                                                  \n",
      " dense_13 (Dense)               (None, 98)           12642       ['lstm_20[0][0]']                \n",
      "                                                                                                  \n",
      "==================================================================================================\n",
      "Total params: 360,132\n",
      "Trainable params: 360,132\n",
      "Non-trainable params: 0\n",
      "__________________________________________________________________________________________________\n"
     ]
    }
   ],
   "source": [
    "model2.summary()"
   ]
  },
  {
   "cell_type": "markdown",
   "metadata": {
    "id": "UOMEwOL2dNY8"
   },
   "source": [
    "#### Plot Model Loss"
   ]
  },
  {
   "cell_type": "code",
   "execution_count": 22,
   "metadata": {},
   "outputs": [
    {
     "name": "stdout",
     "output_type": "stream",
     "text": [
      "Best Epoch (Model restored from this eopch) 49 Early Stopping Kicked in at Epoch 99\n"
     ]
    },
    {
     "data": {
      "image/png": "[encoded data removed]",
      "text/plain": [
       "<Figure size 640x480 with 1 Axes>"
      ]
     },
     "metadata": {},
     "output_type": "display_data"
    }
   ],
   "source": [
    "\n",
    "# multihead model loss\n",
    "# Plot loss and validation loss\n",
    "# model2_history.keys()\n",
    "# plt.plot(model2_history['loss'])\n",
    "\n",
    "plt.plot(model2_history['loss'], label=\"Training Loss\")\n",
    "plt.plot(model2_history['val_loss'], label =\"Validation Loss\")\n",
    "# plt.plot(model2_history.history['dense_26_loss'], label =\"Head 1 Train Loss\")\n",
    "# plt.plot(model2_history.history['dense_27_loss'], label =\"Head 2 Train Loss\")\n",
    "# plt.plot(model2_history.history['val_dense_26_loss'], label =\"Head 1 Val. Loss\")\n",
    "# plt.plot(model2_history.history['val_dense_27_loss'], label =\"Head 2 Val. Loss\")\n",
    "\n",
    "print(\"Best Epoch (Model restored from this eopch)\", np.argmin(model2_history['val_loss'])+1,\n",
    "      \"Early Stopping Kicked in at Epoch\", np.argmin(model2_history['val_loss'])+1 + 50)\n",
    "\n",
    "\n",
    "plt.title('Model Loss')\n",
    "plt.ylabel('Loss (MSE)')\n",
    "plt.xlabel('Epoch')\n",
    "plt.legend( loc='upper right')\n",
    "plt.savefig(\"ModelLoss_LSTM2_v1.png\", dpi=300)\n",
    "# plt.show()"
   ]
  }
 ],
 "metadata": {
  "colab": {
   "collapsed_sections": [
    "3r6q8GBGjjp0",
    "7avilUEjjqM1",
    "vQWjIbhMjqVX",
    "-XvBsJj2ua9c",
    "piZtfbsSugBQ"
   ],
   "provenance": [],
   "toc_visible": true
  },
  "kernelspec": {
   "display_name": "Python 3 (ipykernel)",
   "language": "python",
   "name": "python3"
  },
  "language_info": {
   "codemirror_mode": {
    "name": "ipython",
    "version": 3
   },
   "file_extension": ".py",
   "mimetype": "text/x-python",
   "name": "python",
   "nbconvert_exporter": "python",
   "pygments_lexer": "ipython3",
   "version": "3.10.11"
  },
  "toc": {
   "base_numbering": 1,
   "nav_menu": {
    "height": "598px",
    "width": "509px"
   },
   "number_sections": true,
   "sideBar": true,
   "skip_h1_title": false,
   "title_cell": "Table of Contents",
   "title_sidebar": "Contents",
   "toc_cell": false,
   "toc_position": {},
   "toc_section_display": true,
   "toc_window_display": false
  }
 },
 "nbformat": 4,
 "nbformat_minor": 1
}
